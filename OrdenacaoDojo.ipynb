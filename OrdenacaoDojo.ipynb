{
  "nbformat": 4,
  "nbformat_minor": 0,
  "metadata": {
    "colab": {
      "name": "OrdenacaoDojo.ipynb",
      "provenance": [],
      "collapsed_sections": [],
      "include_colab_link": true
    },
    "kernelspec": {
      "name": "python3",
      "display_name": "Python 3"
    }
  },
  "cells": [
    {
      "cell_type": "markdown",
      "metadata": {
        "id": "view-in-github",
        "colab_type": "text"
      },
      "source": [
        "<a href=\"https://colab.research.google.com/github/tiagoheineck/estrutura-de-dados-2020/blob/master/OrdenacaoDojo.ipynb\" target=\"_parent\"><img src=\"https://colab.research.google.com/assets/colab-badge.svg\" alt=\"Open In Colab\"/></a>"
      ]
    },
    {
      "cell_type": "code",
      "metadata": {
        "id": "hR_1f-WQJ4Qu",
        "outputId": "5896ab9d-efc1-4213-cac2-09a682a194b0",
        "colab": {
          "base_uri": "https://localhost:8080/",
          "height": 69
        }
      },
      "source": [
        "'''\n",
        "1. Considerando a estrutura de dados a seguir, formadas pelas colunas \"nome do paciente\" e \"idade (em anos)\", u usando o método Bubble Sort, classifique as idades em ordem crescente e, em seguida, mostre os nomes dos pacientes e suas idades\n",
        "\n",
        "\n",
        "Pacientes\n",
        "Nome do Paciente\tIdade (em anos)\n",
        "Pedro\t            23\n",
        "Maria\t            45\n",
        "João\t            17\n",
        "Ana\t              21\n",
        "Beatriz         \t2\n",
        "Luiza\t            4\n",
        "Alberto\t          29\n",
        "Paulo\t            56\n",
        "Roberta\t          27\n",
        "Diego\t            14\n",
        "'''"
      ],
      "execution_count": null,
      "outputs": [
        {
          "output_type": "execute_result",
          "data": {
            "application/vnd.google.colaboratory.intrinsic+json": {
              "type": "string"
            },
            "text/plain": [
              "'\\n1. Considerando a estrutura de dados a seguir, formadas pelas colunas \"nome do paciente\" e \"idade (em anos)\", u usando o método Bubble Sort, classifique as idades em ordem crescente e, em seguida, mostre os nomes dos pacientes e suas idades\\n\\n\\nPacientes\\nNome do Paciente\\tIdade (em anos)\\nPedro\\t            23\\nMaria\\t            45\\nJoão\\t            17\\nAna\\t              21\\nBeatriz         \\t2\\nLuiza\\t            4\\nAlberto\\t          29\\nPaulo\\t            56\\nRoberta\\t          27\\nDiego\\t            14\\n'"
            ]
          },
          "metadata": {
            "tags": []
          },
          "execution_count": 6
        }
      ]
    },
    {
      "cell_type": "code",
      "metadata": {
        "id": "7_p6L9VqKFny",
        "outputId": "a6e9da99-128d-4b1b-8b88-7e66da3dcf2b",
        "colab": {
          "base_uri": "https://localhost:8080/",
          "height": 56
        }
      },
      "source": [
        "vetor =[[\"Pedro\", 23],[\"Maria\",45],[\"João\",17],[\"Ana\", 21],[\"Beatriz\", 2],[\"Luiza\", 4], [\"Alberto\", 29],[\"Paulo\", 56],[\"Roberta\", 27],[\"Diego\", 14]]\n",
        "\n",
        "for i in vetor:\n",
        "  for x in range(0, len(vetor)-1):\n",
        "    if vetor[x][1]>vetor[x+1][1]:\n",
        "      aux = vetor[x]\n",
        "      vetor[x]= vetor[x+1]\n",
        "      vetor[x+1] = aux\n",
        "print(vetor)\n",
        "    "
      ],
      "execution_count": null,
      "outputs": [
        {
          "output_type": "stream",
          "text": [
            "[['Beatriz', 2], ['Luiza', 4], ['Diego', 14], ['João', 17], ['Ana', 21], ['Pedro', 23], ['Roberta', 27], ['Alberto', 29], ['Maria', 45], ['Paulo', 56]]\n"
          ],
          "name": "stdout"
        }
      ]
    },
    {
      "cell_type": "markdown",
      "metadata": {
        "id": "K7iqPiCrVw5u"
      },
      "source": [
        "2. Considere uma estrutura de dados formada pelas colunas \"Nome do aluno\" e \"média final\". Usando o método de ordenação QuickSort, classifique os alunos pelo seu nome em ordem crescente e, em seguida, mostre o nome de todos os alunos e suas médias finais"
      ]
    },
    {
      "cell_type": "code",
      "metadata": {
        "id": "NpgcfdlaWBXn",
        "outputId": "a3744424-d0b4-4fdd-a303-19134f5f9942",
        "colab": {
          "base_uri": "https://localhost:8080/",
          "height": 55
        }
      },
      "source": [
        "vetor = [[\"Pedro\", 23],[\"Maria\", 45],[\"João\", 17],[\"Ana\", 21],[\"Beatriz\", 2],[\"Luiza\", 4], [\"Alberto\", 29],[\"Paulo\", 56],[\"Roberta\", 27],[\"Diego\", 14]]\n",
        "\n",
        "def quickSort(alist):\n",
        "   quickSortHelper(alist,0,len(alist)-1)\n",
        "\n",
        "def quickSortHelper(alist,first,last):\n",
        "   if first<last:\n",
        "\n",
        "       splitpoint = partition(alist,first,last)\n",
        "\n",
        "       quickSortHelper(alist,first,splitpoint-1)\n",
        "       quickSortHelper(alist,splitpoint+1,last)\n",
        "\n",
        "\n",
        "def partition(alist,first,last):\n",
        "   pivotvalue = alist[first][1]\n",
        "\n",
        "   leftmark = first+1\n",
        "   rightmark = last\n",
        "\n",
        "   done = False\n",
        "   while not done:\n",
        "\n",
        "       while leftmark <= rightmark and alist[leftmark][1] <= pivotvalue:\n",
        "           leftmark = leftmark + 1\n",
        "\n",
        "       while alist[rightmark][1] >= pivotvalue and rightmark >= leftmark:\n",
        "           rightmark = rightmark -1\n",
        "\n",
        "       if rightmark < leftmark:\n",
        "           done = True\n",
        "       else:\n",
        "           temp = alist[leftmark]\n",
        "           alist[leftmark] = alist[rightmark]\n",
        "           alist[rightmark] = temp\n",
        "\n",
        "   temp = alist[first]\n",
        "   alist[first] = alist[rightmark]\n",
        "   alist[rightmark] = temp\n",
        "\n",
        "\n",
        "   return rightmark\n",
        "\n",
        "quickSort(vetor)\n",
        "print(vetor)\n",
        "    \n",
        "\n",
        "\n"
      ],
      "execution_count": 2,
      "outputs": [
        {
          "output_type": "stream",
          "text": [
            "[['Beatriz', 2], ['Luiza', 4], ['Diego', 14], ['João', 17], ['Ana', 21], ['Pedro', 23], ['Roberta', 27], ['Alberto', 29], ['Maria', 45], ['Paulo', 56]]\n"
          ],
          "name": "stdout"
        }
      ]
    },
    {
      "cell_type": "code",
      "metadata": {
        "id": "KkvB2M9Of7qr"
      },
      "source": [
        ""
      ],
      "execution_count": null,
      "outputs": []
    }
  ]
}