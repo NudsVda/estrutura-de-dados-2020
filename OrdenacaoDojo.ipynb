{
  "nbformat": 4,
  "nbformat_minor": 0,
  "metadata": {
    "colab": {
      "name": "OrdenacaoDojo.ipynb",
      "provenance": [],
      "collapsed_sections": [],
      "include_colab_link": true
    },
    "kernelspec": {
      "name": "python3",
      "display_name": "Python 3"
    }
  },
  "cells": [
    {
      "cell_type": "markdown",
      "metadata": {
        "id": "view-in-github",
        "colab_type": "text"
      },
      "source": [
        "<a href=\"https://colab.research.google.com/github/tiagoheineck/estrutura-de-dados-2020/blob/master/OrdenacaoDojo.ipynb\" target=\"_parent\"><img src=\"https://colab.research.google.com/assets/colab-badge.svg\" alt=\"Open In Colab\"/></a>"
      ]
    },
    {
      "cell_type": "code",
      "metadata": {
        "id": "hR_1f-WQJ4Qu",
        "outputId": "4b94dec7-b37a-4e78-d6d2-3ae14558958f",
        "colab": {
          "base_uri": "https://localhost:8080/",
          "height": 87
        }
      },
      "source": [
        "'''\n",
        "1. Considerando a estrutura de dados a seguir, formadas pelas colunas \"nome do paciente\" e \"idade (em anos)\", u usando o método Bubble Sort, classifique as idades em ordem crescente e, em seguida, mostre os nomes dos pacientes e suas idades\n",
        "\n",
        "\n",
        "Pacientes\n",
        "Nome do Paciente\tIdade (em anos)\n",
        "Pedro\t            23\n",
        "Maria\t            45\n",
        "João\t            17\n",
        "Ana\t              21\n",
        "Beatriz         \t2\n",
        "Luiza\t            4\n",
        "Alberto\t          29\n",
        "Paulo\t            56\n",
        "Roberta\t          27\n",
        "Diego\t            14\n",
        "'''"
      ],
      "execution_count": 1,
      "outputs": [
        {
          "output_type": "execute_result",
          "data": {
            "application/vnd.google.colaboratory.intrinsic+json": {
              "type": "string"
            },
            "text/plain": [
              "'\\n1. Considerando a estrutura de dados a seguir, formadas pelas colunas \"nome do paciente\" e \"idade (em anos)\", u usando o método Bubble Sort, classifique as idades em ordem crescente e, em seguida, mostre os nomes dos pacientes e suas idades\\n\\n\\nPacientes\\nNome do Paciente\\tIdade (em anos)\\nPedro\\t            23\\nMaria\\t            45\\nJoão\\t            17\\nAna\\t              21\\nBeatriz         \\t2\\nLuiza\\t            4\\nAlberto\\t          29\\nPaulo\\t            56\\nRoberta\\t          27\\nDiego\\t            14\\n'"
            ]
          },
          "metadata": {
            "tags": []
          },
          "execution_count": 1
        }
      ]
    },
    {
      "cell_type": "code",
      "metadata": {
        "id": "7_p6L9VqKFny",
        "outputId": "f49416d9-284b-473b-8545-0bbc984eb5ac",
        "colab": {
          "base_uri": "https://localhost:8080/",
          "height": 55
        }
      },
      "source": [
        "vetor =[[\"Pedro\", 23],[\"Maria\",45],[\"João\",17],[\"Ana\", 21],[\"Beatriz\", 2],[\"Luiza\", 4], [\"Alberto\", 29],[\"Paulo\", 56],[\"Roberta\", 27],[\"Diego\", 14]]\n",
        "\n",
        "for i in vetor:\n",
        "  for x in range(0, len(vetor)-1):\n",
        "    if vetor[x][1]>vetor[x+1][1]:\n",
        "      aux = vetor[x]\n",
        "      vetor[x]= vetor[x+1]\n",
        "      vetor[x+1] = aux\n",
        "print(vetor)\n",
        "    "
      ],
      "execution_count": 2,
      "outputs": [
        {
          "output_type": "stream",
          "text": [
            "[['Beatriz', 2], ['Luiza', 4], ['Diego', 14], ['João', 17], ['Ana', 21], ['Pedro', 23], ['Roberta', 27], ['Alberto', 29], ['Maria', 45], ['Paulo', 56]]\n"
          ],
          "name": "stdout"
        }
      ]
    },
    {
      "cell_type": "markdown",
      "metadata": {
        "id": "K7iqPiCrVw5u"
      },
      "source": [
        "2. Considere uma estrutura de dados formada pelas colunas \"Nome do aluno\" e \"média final\". Usando o método de ordenação QuickSort, classifique os alunos pelo seu nome em ordem crescente e, em seguida, mostre o nome de todos os alunos e suas médias finais"
      ]
    },
    {
      "cell_type": "code",
      "metadata": {
        "id": "NpgcfdlaWBXn",
        "outputId": "5ae8b36d-3a8e-40c8-b2d6-99f0a066e021",
        "colab": {
          "base_uri": "https://localhost:8080/",
          "height": 55
        }
      },
      "source": [
        "vetor = [[\"Pedro\", 23],[\"Maria\", 45],[\"João\", 17],[\"Ana\", 21],[\"Beatriz\", 2],[\"Luiza\", 4], [\"Alberto\", 29],[\"Paulo\", 56],[\"Roberta\", 27],[\"Diego\", 14]]\n",
        "\n",
        "def quickSort(alist):\n",
        "   quickSortHelper(alist,0,len(alist)-1)\n",
        "\n",
        "def quickSortHelper(alist,first,last):\n",
        "   if first<last:\n",
        "\n",
        "       splitpoint = partition(alist,first,last)\n",
        "\n",
        "       quickSortHelper(alist,first,splitpoint-1)\n",
        "       quickSortHelper(alist,splitpoint+1,last)\n",
        "\n",
        "\n",
        "def partition(alist,first,last):\n",
        "   pivotvalue = alist[first][1]\n",
        "\n",
        "   leftmark = first+1\n",
        "   rightmark = last\n",
        "\n",
        "   done = False\n",
        "   while not done:\n",
        "\n",
        "       while leftmark <= rightmark and alist[leftmark][1] <= pivotvalue:\n",
        "           leftmark = leftmark + 1\n",
        "\n",
        "       while alist[rightmark][1] >= pivotvalue and rightmark >= leftmark:\n",
        "           rightmark = rightmark -1\n",
        "\n",
        "       if rightmark < leftmark:\n",
        "           done = True\n",
        "       else:\n",
        "           temp = alist[leftmark]\n",
        "           alist[leftmark] = alist[rightmark]\n",
        "           alist[rightmark] = temp\n",
        "\n",
        "   temp = alist[first]\n",
        "   alist[first] = alist[rightmark]\n",
        "   alist[rightmark] = temp\n",
        "\n",
        "\n",
        "   return rightmark\n",
        "\n",
        "quickSort(vetor)\n",
        "print(vetor)\n",
        "    \n",
        "\n",
        "\n"
      ],
      "execution_count": 3,
      "outputs": [
        {
          "output_type": "stream",
          "text": [
            "[['Beatriz', 2], ['Luiza', 4], ['Diego', 14], ['João', 17], ['Ana', 21], ['Pedro', 23], ['Roberta', 27], ['Alberto', 29], ['Maria', 45], ['Paulo', 56]]\n"
          ],
          "name": "stdout"
        }
      ]
    },
    {
      "cell_type": "markdown",
      "metadata": {
        "id": "q6HsHkoZgaB2"
      },
      "source": [
        "3. Considerando a estrutura de dados a seguir, ordene-a por meio do método da seleção direta - SeletionSort. Mostre o conteúdo da estrutura antes e depois da ordenação\n",
        "\n",
        "CB   DB   AA BA   CA   DA   BB   AB"
      ]
    },
    {
      "cell_type": "code",
      "metadata": {
        "id": "SeEKPX7UgbUS",
        "outputId": "f2b8406a-3fc7-458b-fa94-044a2a2c3c94",
        "colab": {
          "base_uri": "https://localhost:8080/",
          "height": 104
        }
      },
      "source": [
        "lista =[\"CB\", \"DB\", \"AA\", \"BA\", \"CA\", \"DA\", \"BB\", \"AB\"]\n",
        "\n",
        "print(\"Lista Desordenada\\n\")\n",
        "print(lista)\n",
        "\n",
        "def selection(lista):\n",
        "    for i in range(0, len(lista)):\n",
        "        min_i = i\n",
        "        for direita in range(i + 1, len(lista)):\n",
        "            if lista[direita] < lista[min_i]:\n",
        "                min_i = direita\n",
        "        lista[i], lista[min_i] = lista[min_i], lista[i]\n",
        "    return lista\n",
        "\n",
        "print(\"Lista Ordenada\")\n",
        "ordered = selection(lista)\n",
        "print(ordered)"
      ],
      "execution_count": 4,
      "outputs": [
        {
          "output_type": "stream",
          "text": [
            "Lista Desordenada\n",
            "\n",
            "['CB', 'DB', 'AA', 'BA', 'CA', 'DA', 'BB', 'AB']\n",
            "Lista Ordenada\n",
            "['AA', 'AB', 'BA', 'BB', 'CA', 'CB', 'DA', 'DB']\n"
          ],
          "name": "stdout"
        }
      ]
    },
    {
      "cell_type": "code",
      "metadata": {
        "id": "sB1SOIRAnSiK"
      },
      "source": [
        ""
      ],
      "execution_count": 4,
      "outputs": []
    }
  ]
}