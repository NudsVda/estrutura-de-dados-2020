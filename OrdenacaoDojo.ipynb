{
  "nbformat": 4,
  "nbformat_minor": 0,
  "metadata": {
    "colab": {
      "name": "OrdenacaoDojo.ipynb",
      "provenance": [],
      "collapsed_sections": [],
      "include_colab_link": true
    },
    "kernelspec": {
      "name": "python3",
      "display_name": "Python 3"
    }
  },
  "cells": [
    {
      "cell_type": "markdown",
      "metadata": {
        "id": "view-in-github",
        "colab_type": "text"
      },
      "source": [
        "<a href=\"https://colab.research.google.com/github/tiagoheineck/estrutura-de-dados-2020/blob/master/OrdenacaoDojo.ipynb\" target=\"_parent\"><img src=\"https://colab.research.google.com/assets/colab-badge.svg\" alt=\"Open In Colab\"/></a>"
      ]
    },
    {
      "cell_type": "code",
      "metadata": {
        "id": "hR_1f-WQJ4Qu"
      },
      "source": [
        "'''\n",
        "1. Considerando a estrutura de dados a seguir, formadas pelas colunas \"nome do paciente\" e \"idade (em anos)\", u usando o método Bubble Sort, classifique as idades em ordem crescente e, em seguida, mostre os nomes dos pacientes e suas idades\n",
        "\n",
        "\n",
        "Pacientes\n",
        "Nome do Paciente\tIdade (em anos)\n",
        "Pedro\t            23\n",
        "Maria\t            45\n",
        "João\t            17\n",
        "Ana\t              21\n",
        "Beatriz         \t2\n",
        "Luiza\t            4\n",
        "Alberto\t          29\n",
        "Paulo\t            56\n",
        "Roberta\t          27\n",
        "Diego\t            14\n",
        "'''"
      ],
      "execution_count": null,
      "outputs": []
    },
    {
      "cell_type": "code",
      "metadata": {
        "id": "7_p6L9VqKFny",
        "outputId": "a6e9da99-128d-4b1b-8b88-7e66da3dcf2b",
        "colab": {
          "base_uri": "https://localhost:8080/",
          "height": 56
        }
      },
      "source": [
        "vetor =[[\"Pedro\", 23],[\"Maria\",45],[\"João\",17],[\"Ana\", 21],[\"Beatriz\", 2],[\"Luiza\", 4], [\"Alberto\", 29],[\"Paulo\", 56],[\"Roberta\", 27],[\"Diego\", 14]]\n",
        "\n",
        "for i in vetor:\n",
        "  for x in range(0, len(vetor)-1):\n",
        "    if vetor[x][1]>vetor[x+1][1]:\n",
        "      aux = vetor[x]\n",
        "      vetor[x]= vetor[x+1]\n",
        "      vetor[x+1] = aux\n",
        "print(vetor)\n",
        "    "
      ],
      "execution_count": null,
      "outputs": [
        {
          "output_type": "stream",
          "text": [
            "[['Beatriz', 2], ['Luiza', 4], ['Diego', 14], ['João', 17], ['Ana', 21], ['Pedro', 23], ['Roberta', 27], ['Alberto', 29], ['Maria', 45], ['Paulo', 56]]\n"
          ],
          "name": "stdout"
        }
      ]
    },
    {
      "cell_type": "markdown",
      "metadata": {
        "id": "K7iqPiCrVw5u"
      },
      "source": [
        "2. Considere uma estrutura de dados formada pelas colunas \"Nome do aluno\" e \"média final\". Usando o método de ordenação QuickSort, classifique os alunos pelo seu nome em ordem crescente e, em seguida, mostre o nome de todos os alunos e suas médias finais"
      ]
    }
  ]
}